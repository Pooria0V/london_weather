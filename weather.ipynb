{
 "cells": [
  {
   "cell_type": "code",
   "execution_count": 171,
   "metadata": {},
   "outputs": [],
   "source": [
    "import pandas as pd\n",
    "import numpy as np\n",
    "import matplotlib.pyplot as plt\n",
    "import tensorflow as tf\n",
    "from tensorflow import keras"
   ]
  },
  {
   "cell_type": "markdown",
   "metadata": {},
   "source": [
    "# fill missing data"
   ]
  },
  {
   "cell_type": "code",
   "execution_count": 172,
   "metadata": {},
   "outputs": [],
   "source": [
    "df = pd.read_csv('london_weather.csv')\n",
    "df = df.fillna(1)\n"
   ]
  },
  {
   "cell_type": "code",
   "execution_count": 173,
   "metadata": {},
   "outputs": [],
   "source": [
    "x = df.drop(columns=['max_temp'], axis=1)  \n",
    "y = df['max_temp']  "
   ]
  },
  {
   "cell_type": "code",
   "execution_count": 174,
   "metadata": {},
   "outputs": [],
   "source": [
    "x = np.array(x)\n",
    "y = np.array(y)"
   ]
  },
  {
   "cell_type": "code",
   "execution_count": 175,
   "metadata": {},
   "outputs": [
    {
     "data": {
      "text/plain": [
       "(1535,)"
      ]
     },
     "execution_count": 175,
     "metadata": {},
     "output_type": "execute_result"
    }
   ],
   "source": [
    "from sklearn.model_selection import train_test_split\n",
    "\n",
    "x, x_test_main, y, y_test_main = train_test_split(x, y, test_size=0.1, random_state=42)\n",
    "# y_train = y_train.astype(int)\n",
    "# y_test = y_test.astype(int)\n",
    "y_test_main.shape"
   ]
  },
  {
   "cell_type": "code",
   "execution_count": 176,
   "metadata": {},
   "outputs": [
    {
     "data": {
      "text/plain": [
       "array([ 0.82029225, -0.23225363,  0.03921345,  0.15777323,  0.01391402,\n",
       "        0.00360213, -0.00134418, -0.00594078])"
      ]
     },
     "execution_count": 176,
     "metadata": {},
     "output_type": "execute_result"
    }
   ],
   "source": [
    "from sklearn.preprocessing import MinMaxScaler\n",
    "\n",
    "scaler = MinMaxScaler(feature_range=(0, 1))\n",
    "x = scaler.fit_transform(x)\n",
    "x_test_main = scaler.fit_transform(x_test_main)\n",
    "x_train[0]"
   ]
  },
  {
   "cell_type": "markdown",
   "metadata": {},
   "source": [
    "# pca"
   ]
  },
  {
   "cell_type": "code",
   "execution_count": 177,
   "metadata": {},
   "outputs": [],
   "source": [
    "# from sklearn.decomposition import PCA\n",
    "\n",
    "# pca = PCA(n_components=8)\n",
    "\n",
    "# x = pca.fit_transform(X=x)\n",
    "# x_test_main = pca.transform(X=x_test_main)"
   ]
  },
  {
   "cell_type": "markdown",
   "metadata": {},
   "source": [
    "# define model 1"
   ]
  },
  {
   "cell_type": "code",
   "execution_count": 178,
   "metadata": {},
   "outputs": [],
   "source": [
    "# def get_reg(meta, hidden_layer_sizes, dropout, active='relu'):\n",
    "#     n_features_in_ = meta[\"n_features_in_\"]\n",
    "#     model = keras.models.Sequential()\n",
    "#     model.add(keras.layers.Input(shape=(n_features_in_,)))\n",
    "#     for hidden_layer_size in hidden_layer_sizes:\n",
    "#         model.add(keras.layers.Dense(hidden_layer_size, activation=active))\n",
    "#         model.add(keras.layers.Dropout(dropout))\n",
    "#     model.add(keras.layers.Dense(1))\n",
    "#     return model"
   ]
  },
  {
   "cell_type": "code",
   "execution_count": 179,
   "metadata": {},
   "outputs": [],
   "source": [
    "# from scikeras.wrappers import KerasRegressor\n",
    "\n",
    "\n",
    "# reg = KerasRegressor(\n",
    "#     model=get_reg,\n",
    "#     loss=\"mse\",\n",
    "#     metrics=[keras.metrics.R2Score],\n",
    "#     hidden_layer_sizes=(100,),\n",
    "#     dropout=0.5,\n",
    "# )\n",
    "# reg.fit(x_train, y_train)"
   ]
  },
  {
   "cell_type": "code",
   "execution_count": 180,
   "metadata": {},
   "outputs": [],
   "source": [
    "# from sklearn.model_selection import RandomizedSearchCV\n",
    "\n",
    "# param_grid = {\n",
    "#     'alpha': [0.1, 1.0, 10.0, 100.0, 1000.0],\n",
    "#     'solver': ['auto', 'svd', 'cholesky', 'lsqr', 'sparse_cg', 'sag', 'saga']\n",
    "# }\n",
    "# rs = RandomizedSearchCV(estimator=reg, param_distributions=param_grid, cv=3, n_iter=20)\n",
    "\n",
    "# rs.fit(x_train, y_train)\n"
   ]
  },
  {
   "cell_type": "markdown",
   "metadata": {},
   "source": [
    "# define 2"
   ]
  },
  {
   "cell_type": "code",
   "execution_count": 181,
   "metadata": {},
   "outputs": [],
   "source": [
    "# from sklearn.model_selection import RandomizedSearchCV\n",
    "# from keras.wrappers.scikit_learn import KerasClassifier\n",
    "\n",
    "# # Define a function to create your Keras model\n",
    "# def create_model(activation='relu', hidden_layer_size=32, dropout_rate=0.2):\n",
    "#     # ... (Your model architecture)\n",
    "\n",
    "#     return model\n",
    "\n",
    "# # Create a KerasClassifier instance\n",
    "# model = KerasClassifier(build_fn=create_model, verbose=0)\n",
    "\n",
    "# # Define the hyperparameter search space\n",
    "# param_dist = {\n",
    "#     'activation': ['relu', 'tanh', 'sigmoid'],\n",
    "#     'hidden_layer_size': [16, 32, 64, 128],\n",
    "#     'dropout_rate': [0.2, 0.3, 0.4, 0.5]\n",
    "# }\n",
    "\n",
    "# # Create a RandomizedSearchCV object\n",
    "# random_search = RandomizedSearchCV(estimator=model, param_distributions=param_dist, n_iter=10, cv=3)\n",
    "\n",
    "# # Fit the random search to your data\n",
    "# random_search.fit(X_train, y_train)\n",
    "\n",
    "# # Get the best parameters and model\n",
    "# best_params = random_search.best_params_\n",
    "# best_model = random_search.best_estimator_"
   ]
  },
  {
   "cell_type": "markdown",
   "metadata": {},
   "source": [
    "# define 3"
   ]
  },
  {
   "cell_type": "code",
   "execution_count": 182,
   "metadata": {},
   "outputs": [],
   "source": [
    "from sklearn.model_selection import KFold\n",
    "from sklearn.metrics import mean_squared_error\n",
    "\n",
    "kf = KFold(n_splits=6)"
   ]
  },
  {
   "cell_type": "code",
   "execution_count": 183,
   "metadata": {},
   "outputs": [],
   "source": [
    "def model_creator():\n",
    "    model = keras.Sequential()\n",
    "    model.add(keras.layers.Input(shape=(9,)))\n",
    "    model.add(keras.layers.Dense(units=32, activation='relu'))\n",
    "    model.add(keras.layers.Dense(units=32, activation='relu'))\n",
    "    model.add(keras.layers.Dense(units=1, activation='linear'))\n",
    "    model.compile(optimizer=tf.optimizers.Adam(), loss='mean_squared_error', metrics=['accuracy'])\n",
    "    return model\n",
    "\n",
    "\n"
   ]
  },
  {
   "cell_type": "code",
   "execution_count": 184,
   "metadata": {},
   "outputs": [
    {
     "name": "stdout",
     "output_type": "stream",
     "text": [
      "Epoch 1/20\n",
      "\u001b[1m180/180\u001b[0m \u001b[32m━━━━━━━━━━━━━━━━━━━━\u001b[0m\u001b[37m\u001b[0m \u001b[1m2s\u001b[0m 3ms/step - accuracy: 0.0013 - loss: 231.5578 - val_accuracy: 0.0000e+00 - val_loss: 25.1570\n",
      "Epoch 2/20\n",
      "\u001b[1m180/180\u001b[0m \u001b[32m━━━━━━━━━━━━━━━━━━━━\u001b[0m\u001b[37m\u001b[0m \u001b[1m0s\u001b[0m 2ms/step - accuracy: 0.0013 - loss: 23.0328 - val_accuracy: 0.0000e+00 - val_loss: 14.7933\n",
      "Epoch 3/20\n",
      "\u001b[1m180/180\u001b[0m \u001b[32m━━━━━━━━━━━━━━━━━━━━\u001b[0m\u001b[37m\u001b[0m \u001b[1m0s\u001b[0m 2ms/step - accuracy: 7.1042e-04 - loss: 12.7208 - val_accuracy: 0.0000e+00 - val_loss: 8.4603\n",
      "Epoch 4/20\n",
      "\u001b[1m180/180\u001b[0m \u001b[32m━━━━━━━━━━━━━━━━━━━━\u001b[0m\u001b[37m\u001b[0m \u001b[1m0s\u001b[0m 2ms/step - accuracy: 9.0482e-04 - loss: 8.0451 - val_accuracy: 0.0000e+00 - val_loss: 7.5558\n",
      "Epoch 5/20\n",
      "\u001b[1m180/180\u001b[0m \u001b[32m━━━━━━━━━━━━━━━━━━━━\u001b[0m\u001b[37m\u001b[0m \u001b[1m1s\u001b[0m 2ms/step - accuracy: 0.0015 - loss: 7.4140 - val_accuracy: 0.0000e+00 - val_loss: 7.3856\n",
      "Epoch 6/20\n",
      "\u001b[1m180/180\u001b[0m \u001b[32m━━━━━━━━━━━━━━━━━━━━\u001b[0m\u001b[37m\u001b[0m \u001b[1m1s\u001b[0m 3ms/step - accuracy: 0.0015 - loss: 7.3882 - val_accuracy: 0.0000e+00 - val_loss: 7.2946\n",
      "Epoch 7/20\n",
      "\u001b[1m180/180\u001b[0m \u001b[32m━━━━━━━━━━━━━━━━━━━━\u001b[0m\u001b[37m\u001b[0m \u001b[1m1s\u001b[0m 3ms/step - accuracy: 8.4181e-04 - loss: 7.1645 - val_accuracy: 0.0000e+00 - val_loss: 7.3089\n",
      "Epoch 8/20\n",
      "\u001b[1m180/180\u001b[0m \u001b[32m━━━━━━━━━━━━━━━━━━━━\u001b[0m\u001b[37m\u001b[0m \u001b[1m0s\u001b[0m 2ms/step - accuracy: 0.0011 - loss: 7.4175 - val_accuracy: 0.0000e+00 - val_loss: 7.1778\n",
      "Epoch 9/20\n",
      "\u001b[1m180/180\u001b[0m \u001b[32m━━━━━━━━━━━━━━━━━━━━\u001b[0m\u001b[37m\u001b[0m \u001b[1m0s\u001b[0m 2ms/step - accuracy: 8.3183e-04 - loss: 7.2428 - val_accuracy: 0.0000e+00 - val_loss: 7.2062\n",
      "Epoch 10/20\n",
      "\u001b[1m180/180\u001b[0m \u001b[32m━━━━━━━━━━━━━━━━━━━━\u001b[0m\u001b[37m\u001b[0m \u001b[1m0s\u001b[0m 2ms/step - accuracy: 6.7605e-04 - loss: 7.0302 - val_accuracy: 0.0000e+00 - val_loss: 7.0813\n",
      "Epoch 11/20\n",
      "\u001b[1m180/180\u001b[0m \u001b[32m━━━━━━━━━━━━━━━━━━━━\u001b[0m\u001b[37m\u001b[0m \u001b[1m0s\u001b[0m 2ms/step - accuracy: 0.0012 - loss: 6.9267 - val_accuracy: 0.0000e+00 - val_loss: 6.9634\n",
      "Epoch 12/20\n",
      "\u001b[1m180/180\u001b[0m \u001b[32m━━━━━━━━━━━━━━━━━━━━\u001b[0m\u001b[37m\u001b[0m \u001b[1m0s\u001b[0m 2ms/step - accuracy: 6.3035e-04 - loss: 6.7829 - val_accuracy: 0.0000e+00 - val_loss: 7.0571\n",
      "Epoch 13/20\n",
      "\u001b[1m180/180\u001b[0m \u001b[32m━━━━━━━━━━━━━━━━━━━━\u001b[0m\u001b[37m\u001b[0m \u001b[1m1s\u001b[0m 3ms/step - accuracy: 6.1193e-04 - loss: 6.8819 - val_accuracy: 0.0000e+00 - val_loss: 6.8242\n",
      "Epoch 14/20\n",
      "\u001b[1m180/180\u001b[0m \u001b[32m━━━━━━━━━━━━━━━━━━━━\u001b[0m\u001b[37m\u001b[0m \u001b[1m0s\u001b[0m 2ms/step - accuracy: 0.0010 - loss: 7.0232 - val_accuracy: 0.0000e+00 - val_loss: 6.7539\n",
      "Epoch 15/20\n",
      "\u001b[1m180/180\u001b[0m \u001b[32m━━━━━━━━━━━━━━━━━━━━\u001b[0m\u001b[37m\u001b[0m \u001b[1m0s\u001b[0m 2ms/step - accuracy: 0.0011 - loss: 6.9029 - val_accuracy: 0.0000e+00 - val_loss: 6.7418\n",
      "Epoch 16/20\n",
      "\u001b[1m180/180\u001b[0m \u001b[32m━━━━━━━━━━━━━━━━━━━━\u001b[0m\u001b[37m\u001b[0m \u001b[1m0s\u001b[0m 2ms/step - accuracy: 9.8425e-04 - loss: 6.7639 - val_accuracy: 0.0000e+00 - val_loss: 6.6104\n",
      "Epoch 17/20\n",
      "\u001b[1m180/180\u001b[0m \u001b[32m━━━━━━━━━━━━━━━━━━━━\u001b[0m\u001b[37m\u001b[0m \u001b[1m0s\u001b[0m 2ms/step - accuracy: 0.0013 - loss: 6.7964 - val_accuracy: 0.0000e+00 - val_loss: 6.5823\n",
      "Epoch 18/20\n",
      "\u001b[1m180/180\u001b[0m \u001b[32m━━━━━━━━━━━━━━━━━━━━\u001b[0m\u001b[37m\u001b[0m \u001b[1m0s\u001b[0m 2ms/step - accuracy: 7.4514e-04 - loss: 6.5078 - val_accuracy: 0.0000e+00 - val_loss: 6.4758\n",
      "Epoch 19/20\n",
      "\u001b[1m180/180\u001b[0m \u001b[32m━━━━━━━━━━━━━━━━━━━━\u001b[0m\u001b[37m\u001b[0m \u001b[1m0s\u001b[0m 2ms/step - accuracy: 8.9515e-04 - loss: 6.4112 - val_accuracy: 0.0000e+00 - val_loss: 6.4243\n",
      "Epoch 20/20\n",
      "\u001b[1m180/180\u001b[0m \u001b[32m━━━━━━━━━━━━━━━━━━━━\u001b[0m\u001b[37m\u001b[0m \u001b[1m0s\u001b[0m 2ms/step - accuracy: 0.0012 - loss: 6.3245 - val_accuracy: 0.0000e+00 - val_loss: 6.3971\n",
      "\u001b[1m72/72\u001b[0m \u001b[32m━━━━━━━━━━━━━━━━━━━━\u001b[0m\u001b[37m\u001b[0m \u001b[1m0s\u001b[0m 2ms/step\n",
      "Epoch 1/20\n",
      "\u001b[1m180/180\u001b[0m \u001b[32m━━━━━━━━━━━━━━━━━━━━\u001b[0m\u001b[37m\u001b[0m \u001b[1m2s\u001b[0m 3ms/step - accuracy: 8.7686e-04 - loss: 199.2848 - val_accuracy: 0.0026 - val_loss: 25.1622\n",
      "Epoch 2/20\n",
      "\u001b[1m180/180\u001b[0m \u001b[32m━━━━━━━━━━━━━━━━━━━━\u001b[0m\u001b[37m\u001b[0m \u001b[1m0s\u001b[0m 2ms/step - accuracy: 8.7672e-04 - loss: 23.5954 - val_accuracy: 0.0026 - val_loss: 17.9781\n",
      "Epoch 3/20\n",
      "\u001b[1m180/180\u001b[0m \u001b[32m━━━━━━━━━━━━━━━━━━━━\u001b[0m\u001b[37m\u001b[0m \u001b[1m1s\u001b[0m 2ms/step - accuracy: 4.6404e-04 - loss: 16.3796 - val_accuracy: 0.0026 - val_loss: 13.5342\n",
      "Epoch 4/20\n",
      "\u001b[1m180/180\u001b[0m \u001b[32m━━━━━━━━━━━━━━━━━━━━\u001b[0m\u001b[37m\u001b[0m \u001b[1m0s\u001b[0m 2ms/step - accuracy: 3.0074e-04 - loss: 12.3058 - val_accuracy: 0.0026 - val_loss: 10.6897\n",
      "Epoch 5/20\n",
      "\u001b[1m180/180\u001b[0m \u001b[32m━━━━━━━━━━━━━━━━━━━━\u001b[0m\u001b[37m\u001b[0m \u001b[1m1s\u001b[0m 3ms/step - accuracy: 5.0237e-04 - loss: 9.6921 - val_accuracy: 0.0026 - val_loss: 8.6048\n",
      "Epoch 6/20\n",
      "\u001b[1m180/180\u001b[0m \u001b[32m━━━━━━━━━━━━━━━━━━━━\u001b[0m\u001b[37m\u001b[0m \u001b[1m0s\u001b[0m 2ms/step - accuracy: 5.6386e-04 - loss: 7.8921 - val_accuracy: 0.0026 - val_loss: 7.8768\n",
      "Epoch 7/20\n",
      "\u001b[1m180/180\u001b[0m \u001b[32m━━━━━━━━━━━━━━━━━━━━\u001b[0m\u001b[37m\u001b[0m \u001b[1m0s\u001b[0m 2ms/step - accuracy: 4.9802e-04 - loss: 7.5480 - val_accuracy: 0.0026 - val_loss: 7.6871\n",
      "Epoch 8/20\n",
      "\u001b[1m180/180\u001b[0m \u001b[32m━━━━━━━━━━━━━━━━━━━━\u001b[0m\u001b[37m\u001b[0m \u001b[1m0s\u001b[0m 2ms/step - accuracy: 4.7388e-04 - loss: 7.5169 - val_accuracy: 0.0026 - val_loss: 7.5169\n",
      "Epoch 9/20\n",
      "\u001b[1m180/180\u001b[0m \u001b[32m━━━━━━━━━━━━━━━━━━━━\u001b[0m\u001b[37m\u001b[0m \u001b[1m0s\u001b[0m 2ms/step - accuracy: 5.3699e-04 - loss: 7.1929 - val_accuracy: 0.0026 - val_loss: 7.4667\n",
      "Epoch 10/20\n",
      "\u001b[1m180/180\u001b[0m \u001b[32m━━━━━━━━━━━━━━━━━━━━\u001b[0m\u001b[37m\u001b[0m \u001b[1m0s\u001b[0m 2ms/step - accuracy: 7.1106e-04 - loss: 7.1561 - val_accuracy: 0.0026 - val_loss: 7.3817\n",
      "Epoch 11/20\n",
      "\u001b[1m180/180\u001b[0m \u001b[32m━━━━━━━━━━━━━━━━━━━━\u001b[0m\u001b[37m\u001b[0m \u001b[1m0s\u001b[0m 2ms/step - accuracy: 3.6426e-04 - loss: 7.0657 - val_accuracy: 0.0026 - val_loss: 7.2745\n",
      "Epoch 12/20\n",
      "\u001b[1m180/180\u001b[0m \u001b[32m━━━━━━━━━━━━━━━━━━━━\u001b[0m\u001b[37m\u001b[0m \u001b[1m0s\u001b[0m 2ms/step - accuracy: 7.9666e-04 - loss: 7.1487 - val_accuracy: 0.0026 - val_loss: 7.1767\n",
      "Epoch 13/20\n",
      "\u001b[1m180/180\u001b[0m \u001b[32m━━━━━━━━━━━━━━━━━━━━\u001b[0m\u001b[37m\u001b[0m \u001b[1m0s\u001b[0m 2ms/step - accuracy: 1.7164e-04 - loss: 7.0683 - val_accuracy: 0.0026 - val_loss: 7.1116\n",
      "Epoch 14/20\n",
      "\u001b[1m180/180\u001b[0m \u001b[32m━━━━━━━━━━━━━━━━━━━━\u001b[0m\u001b[37m\u001b[0m \u001b[1m0s\u001b[0m 2ms/step - accuracy: 4.3131e-04 - loss: 7.0553 - val_accuracy: 0.0026 - val_loss: 7.2001\n",
      "Epoch 15/20\n",
      "\u001b[1m180/180\u001b[0m \u001b[32m━━━━━━━━━━━━━━━━━━━━\u001b[0m\u001b[37m\u001b[0m \u001b[1m0s\u001b[0m 2ms/step - accuracy: 2.1882e-04 - loss: 6.9208 - val_accuracy: 0.0026 - val_loss: 7.0340\n",
      "Epoch 16/20\n",
      "\u001b[1m180/180\u001b[0m \u001b[32m━━━━━━━━━━━━━━━━━━━━\u001b[0m\u001b[37m\u001b[0m \u001b[1m0s\u001b[0m 2ms/step - accuracy: 3.1306e-04 - loss: 6.8186 - val_accuracy: 0.0026 - val_loss: 6.8592\n",
      "Epoch 17/20\n",
      "\u001b[1m180/180\u001b[0m \u001b[32m━━━━━━━━━━━━━━━━━━━━\u001b[0m\u001b[37m\u001b[0m \u001b[1m0s\u001b[0m 2ms/step - accuracy: 9.1042e-04 - loss: 6.8529 - val_accuracy: 0.0026 - val_loss: 6.8278\n",
      "Epoch 18/20\n",
      "\u001b[1m180/180\u001b[0m \u001b[32m━━━━━━━━━━━━━━━━━━━━\u001b[0m\u001b[37m\u001b[0m \u001b[1m0s\u001b[0m 2ms/step - accuracy: 5.9632e-04 - loss: 6.6529 - val_accuracy: 0.0026 - val_loss: 6.7530\n",
      "Epoch 19/20\n",
      "\u001b[1m180/180\u001b[0m \u001b[32m━━━━━━━━━━━━━━━━━━━━\u001b[0m\u001b[37m\u001b[0m \u001b[1m0s\u001b[0m 2ms/step - accuracy: 2.1822e-04 - loss: 6.5726 - val_accuracy: 0.0026 - val_loss: 6.6434\n",
      "Epoch 20/20\n",
      "\u001b[1m180/180\u001b[0m \u001b[32m━━━━━━━━━━━━━━━━━━━━\u001b[0m\u001b[37m\u001b[0m \u001b[1m0s\u001b[0m 2ms/step - accuracy: 6.2193e-04 - loss: 6.4095 - val_accuracy: 0.0026 - val_loss: 6.5783\n",
      "\u001b[1m72/72\u001b[0m \u001b[32m━━━━━━━━━━━━━━━━━━━━\u001b[0m\u001b[37m\u001b[0m \u001b[1m0s\u001b[0m 2ms/step\n",
      "Epoch 1/20\n",
      "\u001b[1m180/180\u001b[0m \u001b[32m━━━━━━━━━━━━━━━━━━━━\u001b[0m\u001b[37m\u001b[0m \u001b[1m2s\u001b[0m 3ms/step - accuracy: 0.0010 - loss: 198.6071 - val_accuracy: 8.6919e-04 - val_loss: 25.4179\n",
      "Epoch 2/20\n",
      "\u001b[1m180/180\u001b[0m \u001b[32m━━━━━━━━━━━━━━━━━━━━\u001b[0m\u001b[37m\u001b[0m \u001b[1m1s\u001b[0m 3ms/step - accuracy: 7.2880e-04 - loss: 23.9901 - val_accuracy: 8.6919e-04 - val_loss: 14.9556\n",
      "Epoch 3/20\n",
      "\u001b[1m180/180\u001b[0m \u001b[32m━━━━━━━━━━━━━━━━━━━━\u001b[0m\u001b[37m\u001b[0m \u001b[1m1s\u001b[0m 3ms/step - accuracy: 7.2221e-04 - loss: 13.1595 - val_accuracy: 8.6919e-04 - val_loss: 8.7427\n",
      "Epoch 4/20\n",
      "\u001b[1m180/180\u001b[0m \u001b[32m━━━━━━━━━━━━━━━━━━━━\u001b[0m\u001b[37m\u001b[0m \u001b[1m0s\u001b[0m 3ms/step - accuracy: 0.0010 - loss: 9.0052 - val_accuracy: 8.6919e-04 - val_loss: 7.8617\n",
      "Epoch 5/20\n",
      "\u001b[1m180/180\u001b[0m \u001b[32m━━━━━━━━━━━━━━━━━━━━\u001b[0m\u001b[37m\u001b[0m \u001b[1m0s\u001b[0m 2ms/step - accuracy: 4.6910e-04 - loss: 8.1096 - val_accuracy: 8.6919e-04 - val_loss: 7.7277\n",
      "Epoch 6/20\n",
      "\u001b[1m180/180\u001b[0m \u001b[32m━━━━━━━━━━━━━━━━━━━━\u001b[0m\u001b[37m\u001b[0m \u001b[1m0s\u001b[0m 2ms/step - accuracy: 7.9844e-04 - loss: 7.8659 - val_accuracy: 8.6919e-04 - val_loss: 7.5283\n",
      "Epoch 7/20\n",
      "\u001b[1m180/180\u001b[0m \u001b[32m━━━━━━━━━━━━━━━━━━━━\u001b[0m\u001b[37m\u001b[0m \u001b[1m0s\u001b[0m 2ms/step - accuracy: 6.7682e-04 - loss: 7.5891 - val_accuracy: 8.6919e-04 - val_loss: 7.3806\n",
      "Epoch 8/20\n",
      "\u001b[1m180/180\u001b[0m \u001b[32m━━━━━━━━━━━━━━━━━━━━\u001b[0m\u001b[37m\u001b[0m \u001b[1m0s\u001b[0m 2ms/step - accuracy: 0.0012 - loss: 7.5372 - val_accuracy: 8.6919e-04 - val_loss: 7.3773\n",
      "Epoch 9/20\n",
      "\u001b[1m180/180\u001b[0m \u001b[32m━━━━━━━━━━━━━━━━━━━━\u001b[0m\u001b[37m\u001b[0m \u001b[1m0s\u001b[0m 2ms/step - accuracy: 4.6434e-04 - loss: 7.5086 - val_accuracy: 8.6919e-04 - val_loss: 7.2854\n",
      "Epoch 10/20\n",
      "\u001b[1m180/180\u001b[0m \u001b[32m━━━━━━━━━━━━━━━━━━━━\u001b[0m\u001b[37m\u001b[0m \u001b[1m0s\u001b[0m 2ms/step - accuracy: 0.0013 - loss: 7.3520 - val_accuracy: 8.6919e-04 - val_loss: 7.1062\n",
      "Epoch 11/20\n",
      "\u001b[1m180/180\u001b[0m \u001b[32m━━━━━━━━━━━━━━━━━━━━\u001b[0m\u001b[37m\u001b[0m \u001b[1m0s\u001b[0m 2ms/step - accuracy: 0.0011 - loss: 7.1887 - val_accuracy: 8.6919e-04 - val_loss: 7.0838\n",
      "Epoch 12/20\n",
      "\u001b[1m180/180\u001b[0m \u001b[32m━━━━━━━━━━━━━━━━━━━━\u001b[0m\u001b[37m\u001b[0m \u001b[1m0s\u001b[0m 2ms/step - accuracy: 9.8397e-04 - loss: 6.9943 - val_accuracy: 8.6919e-04 - val_loss: 6.9335\n",
      "Epoch 13/20\n",
      "\u001b[1m180/180\u001b[0m \u001b[32m━━━━━━━━━━━━━━━━━━━━\u001b[0m\u001b[37m\u001b[0m \u001b[1m1s\u001b[0m 3ms/step - accuracy: 4.0395e-04 - loss: 6.9430 - val_accuracy: 8.6919e-04 - val_loss: 6.8623\n",
      "Epoch 14/20\n",
      "\u001b[1m180/180\u001b[0m \u001b[32m━━━━━━━━━━━━━━━━━━━━\u001b[0m\u001b[37m\u001b[0m \u001b[1m0s\u001b[0m 2ms/step - accuracy: 9.1514e-04 - loss: 6.9639 - val_accuracy: 8.6919e-04 - val_loss: 6.8278\n",
      "Epoch 15/20\n",
      "\u001b[1m180/180\u001b[0m \u001b[32m━━━━━━━━━━━━━━━━━━━━\u001b[0m\u001b[37m\u001b[0m \u001b[1m1s\u001b[0m 2ms/step - accuracy: 0.0011 - loss: 6.7910 - val_accuracy: 8.6919e-04 - val_loss: 6.7043\n",
      "Epoch 16/20\n",
      "\u001b[1m180/180\u001b[0m \u001b[32m━━━━━━━━━━━━━━━━━━━━\u001b[0m\u001b[37m\u001b[0m \u001b[1m0s\u001b[0m 2ms/step - accuracy: 7.1276e-04 - loss: 6.6973 - val_accuracy: 8.6919e-04 - val_loss: 6.6473\n",
      "Epoch 17/20\n",
      "\u001b[1m180/180\u001b[0m \u001b[32m━━━━━━━━━━━━━━━━━━━━\u001b[0m\u001b[37m\u001b[0m \u001b[1m0s\u001b[0m 2ms/step - accuracy: 7.7687e-04 - loss: 6.7624 - val_accuracy: 8.6919e-04 - val_loss: 6.5517\n",
      "Epoch 18/20\n",
      "\u001b[1m180/180\u001b[0m \u001b[32m━━━━━━━━━━━━━━━━━━━━\u001b[0m\u001b[37m\u001b[0m \u001b[1m1s\u001b[0m 2ms/step - accuracy: 4.1233e-04 - loss: 6.7136 - val_accuracy: 8.6919e-04 - val_loss: 6.4892\n",
      "Epoch 19/20\n",
      "\u001b[1m180/180\u001b[0m \u001b[32m━━━━━━━━━━━━━━━━━━━━\u001b[0m\u001b[37m\u001b[0m \u001b[1m0s\u001b[0m 2ms/step - accuracy: 6.4991e-04 - loss: 6.6095 - val_accuracy: 8.6919e-04 - val_loss: 6.4963\n",
      "Epoch 20/20\n",
      "\u001b[1m180/180\u001b[0m \u001b[32m━━━━━━━━━━━━━━━━━━━━\u001b[0m\u001b[37m\u001b[0m \u001b[1m0s\u001b[0m 2ms/step - accuracy: 7.9524e-04 - loss: 6.4930 - val_accuracy: 8.6919e-04 - val_loss: 6.7222\n",
      "\u001b[1m72/72\u001b[0m \u001b[32m━━━━━━━━━━━━━━━━━━━━\u001b[0m\u001b[37m\u001b[0m \u001b[1m0s\u001b[0m 2ms/step\n",
      "Epoch 1/20\n",
      "\u001b[1m180/180\u001b[0m \u001b[32m━━━━━━━━━━━━━━━━━━━━\u001b[0m\u001b[37m\u001b[0m \u001b[1m2s\u001b[0m 3ms/step - accuracy: 5.8884e-04 - loss: 219.1133 - val_accuracy: 0.0000e+00 - val_loss: 21.9404\n",
      "Epoch 2/20\n",
      "\u001b[1m180/180\u001b[0m \u001b[32m━━━━━━━━━━━━━━━━━━━━\u001b[0m\u001b[37m\u001b[0m \u001b[1m0s\u001b[0m 2ms/step - accuracy: 9.0248e-04 - loss: 19.1120 - val_accuracy: 0.0000e+00 - val_loss: 13.3843\n",
      "Epoch 3/20\n",
      "\u001b[1m180/180\u001b[0m \u001b[32m━━━━━━━━━━━━━━━━━━━━\u001b[0m\u001b[37m\u001b[0m \u001b[1m1s\u001b[0m 3ms/step - accuracy: 0.0011 - loss: 11.3349 - val_accuracy: 0.0000e+00 - val_loss: 8.2865\n",
      "Epoch 4/20\n",
      "\u001b[1m180/180\u001b[0m \u001b[32m━━━━━━━━━━━━━━━━━━━━\u001b[0m\u001b[37m\u001b[0m \u001b[1m1s\u001b[0m 3ms/step - accuracy: 6.2837e-04 - loss: 8.0049 - val_accuracy: 0.0000e+00 - val_loss: 7.4898\n",
      "Epoch 5/20\n",
      "\u001b[1m180/180\u001b[0m \u001b[32m━━━━━━━━━━━━━━━━━━━━\u001b[0m\u001b[37m\u001b[0m \u001b[1m0s\u001b[0m 2ms/step - accuracy: 7.3473e-04 - loss: 7.4915 - val_accuracy: 0.0000e+00 - val_loss: 7.3378\n",
      "Epoch 6/20\n",
      "\u001b[1m180/180\u001b[0m \u001b[32m━━━━━━━━━━━━━━━━━━━━\u001b[0m\u001b[37m\u001b[0m \u001b[1m0s\u001b[0m 2ms/step - accuracy: 0.0014 - loss: 7.4666 - val_accuracy: 0.0000e+00 - val_loss: 7.3644\n",
      "Epoch 7/20\n",
      "\u001b[1m180/180\u001b[0m \u001b[32m━━━━━━━━━━━━━━━━━━━━\u001b[0m\u001b[37m\u001b[0m \u001b[1m0s\u001b[0m 2ms/step - accuracy: 0.0015 - loss: 7.1543 - val_accuracy: 0.0000e+00 - val_loss: 7.2108\n",
      "Epoch 8/20\n",
      "\u001b[1m180/180\u001b[0m \u001b[32m━━━━━━━━━━━━━━━━━━━━\u001b[0m\u001b[37m\u001b[0m \u001b[1m0s\u001b[0m 2ms/step - accuracy: 0.0011 - loss: 7.2281 - val_accuracy: 0.0000e+00 - val_loss: 7.1631\n",
      "Epoch 9/20\n",
      "\u001b[1m180/180\u001b[0m \u001b[32m━━━━━━━━━━━━━━━━━━━━\u001b[0m\u001b[37m\u001b[0m \u001b[1m0s\u001b[0m 2ms/step - accuracy: 0.0011 - loss: 7.2003 - val_accuracy: 0.0000e+00 - val_loss: 7.0492\n",
      "Epoch 10/20\n",
      "\u001b[1m180/180\u001b[0m \u001b[32m━━━━━━━━━━━━━━━━━━━━\u001b[0m\u001b[37m\u001b[0m \u001b[1m0s\u001b[0m 2ms/step - accuracy: 0.0010 - loss: 7.2360 - val_accuracy: 0.0000e+00 - val_loss: 7.0918\n",
      "Epoch 11/20\n",
      "\u001b[1m180/180\u001b[0m \u001b[32m━━━━━━━━━━━━━━━━━━━━\u001b[0m\u001b[37m\u001b[0m \u001b[1m0s\u001b[0m 2ms/step - accuracy: 6.9485e-04 - loss: 7.1169 - val_accuracy: 0.0000e+00 - val_loss: 7.0205\n",
      "Epoch 12/20\n",
      "\u001b[1m180/180\u001b[0m \u001b[32m━━━━━━━━━━━━━━━━━━━━\u001b[0m\u001b[37m\u001b[0m \u001b[1m0s\u001b[0m 2ms/step - accuracy: 4.7505e-04 - loss: 6.6038 - val_accuracy: 0.0000e+00 - val_loss: 6.8499\n",
      "Epoch 13/20\n",
      "\u001b[1m180/180\u001b[0m \u001b[32m━━━━━━━━━━━━━━━━━━━━\u001b[0m\u001b[37m\u001b[0m \u001b[1m0s\u001b[0m 2ms/step - accuracy: 0.0011 - loss: 6.9631 - val_accuracy: 0.0000e+00 - val_loss: 6.8277\n",
      "Epoch 14/20\n",
      "\u001b[1m180/180\u001b[0m \u001b[32m━━━━━━━━━━━━━━━━━━━━\u001b[0m\u001b[37m\u001b[0m \u001b[1m0s\u001b[0m 2ms/step - accuracy: 0.0011 - loss: 6.6874 - val_accuracy: 0.0000e+00 - val_loss: 6.7983\n",
      "Epoch 15/20\n",
      "\u001b[1m180/180\u001b[0m \u001b[32m━━━━━━━━━━━━━━━━━━━━\u001b[0m\u001b[37m\u001b[0m \u001b[1m0s\u001b[0m 2ms/step - accuracy: 0.0014 - loss: 6.6491 - val_accuracy: 0.0000e+00 - val_loss: 6.6536\n",
      "Epoch 16/20\n",
      "\u001b[1m180/180\u001b[0m \u001b[32m━━━━━━━━━━━━━━━━━━━━\u001b[0m\u001b[37m\u001b[0m \u001b[1m1s\u001b[0m 3ms/step - accuracy: 5.7719e-04 - loss: 6.5025 - val_accuracy: 0.0000e+00 - val_loss: 6.6498\n",
      "Epoch 17/20\n",
      "\u001b[1m180/180\u001b[0m \u001b[32m━━━━━━━━━━━━━━━━━━━━\u001b[0m\u001b[37m\u001b[0m \u001b[1m0s\u001b[0m 2ms/step - accuracy: 6.0467e-04 - loss: 6.4165 - val_accuracy: 0.0000e+00 - val_loss: 6.5715\n",
      "Epoch 18/20\n",
      "\u001b[1m180/180\u001b[0m \u001b[32m━━━━━━━━━━━━━━━━━━━━\u001b[0m\u001b[37m\u001b[0m \u001b[1m0s\u001b[0m 2ms/step - accuracy: 8.0856e-04 - loss: 6.3982 - val_accuracy: 0.0000e+00 - val_loss: 6.5183\n",
      "Epoch 19/20\n",
      "\u001b[1m180/180\u001b[0m \u001b[32m━━━━━━━━━━━━━━━━━━━━\u001b[0m\u001b[37m\u001b[0m \u001b[1m1s\u001b[0m 2ms/step - accuracy: 0.0012 - loss: 6.3123 - val_accuracy: 0.0000e+00 - val_loss: 6.4998\n",
      "Epoch 20/20\n",
      "\u001b[1m180/180\u001b[0m \u001b[32m━━━━━━━━━━━━━━━━━━━━\u001b[0m\u001b[37m\u001b[0m \u001b[1m0s\u001b[0m 2ms/step - accuracy: 0.0013 - loss: 6.1796 - val_accuracy: 0.0000e+00 - val_loss: 6.4201\n",
      "\u001b[1m72/72\u001b[0m \u001b[32m━━━━━━━━━━━━━━━━━━━━\u001b[0m\u001b[37m\u001b[0m \u001b[1m0s\u001b[0m 2ms/step\n",
      "Epoch 1/20\n",
      "\u001b[1m180/180\u001b[0m \u001b[32m━━━━━━━━━━━━━━━━━━━━\u001b[0m\u001b[37m\u001b[0m \u001b[1m2s\u001b[0m 5ms/step - accuracy: 5.9997e-04 - loss: 195.4627 - val_accuracy: 4.3459e-04 - val_loss: 23.7777\n",
      "Epoch 2/20\n",
      "\u001b[1m180/180\u001b[0m \u001b[32m━━━━━━━━━━━━━━━━━━━━\u001b[0m\u001b[37m\u001b[0m \u001b[1m1s\u001b[0m 3ms/step - accuracy: 9.4589e-04 - loss: 22.0977 - val_accuracy: 4.3459e-04 - val_loss: 13.2745\n",
      "Epoch 3/20\n",
      "\u001b[1m180/180\u001b[0m \u001b[32m━━━━━━━━━━━━━━━━━━━━\u001b[0m\u001b[37m\u001b[0m \u001b[1m0s\u001b[0m 2ms/step - accuracy: 8.6577e-04 - loss: 11.7393 - val_accuracy: 4.3459e-04 - val_loss: 8.1769\n",
      "Epoch 4/20\n",
      "\u001b[1m180/180\u001b[0m \u001b[32m━━━━━━━━━━━━━━━━━━━━\u001b[0m\u001b[37m\u001b[0m \u001b[1m0s\u001b[0m 2ms/step - accuracy: 7.9929e-04 - loss: 7.9572 - val_accuracy: 4.3459e-04 - val_loss: 7.6191\n",
      "Epoch 5/20\n",
      "\u001b[1m180/180\u001b[0m \u001b[32m━━━━━━━━━━━━━━━━━━━━\u001b[0m\u001b[37m\u001b[0m \u001b[1m0s\u001b[0m 2ms/step - accuracy: 5.8326e-04 - loss: 7.5429 - val_accuracy: 4.3459e-04 - val_loss: 7.5566\n",
      "Epoch 6/20\n",
      "\u001b[1m180/180\u001b[0m \u001b[32m━━━━━━━━━━━━━━━━━━━━\u001b[0m\u001b[37m\u001b[0m \u001b[1m0s\u001b[0m 2ms/step - accuracy: 7.5816e-04 - loss: 7.5712 - val_accuracy: 4.3459e-04 - val_loss: 7.3759\n",
      "Epoch 7/20\n",
      "\u001b[1m180/180\u001b[0m \u001b[32m━━━━━━━━━━━━━━━━━━━━\u001b[0m\u001b[37m\u001b[0m \u001b[1m0s\u001b[0m 2ms/step - accuracy: 9.5426e-04 - loss: 7.4382 - val_accuracy: 4.3459e-04 - val_loss: 7.3140\n",
      "Epoch 8/20\n",
      "\u001b[1m180/180\u001b[0m \u001b[32m━━━━━━━━━━━━━━━━━━━━\u001b[0m\u001b[37m\u001b[0m \u001b[1m0s\u001b[0m 2ms/step - accuracy: 9.6007e-04 - loss: 7.3404 - val_accuracy: 4.3459e-04 - val_loss: 7.3536\n",
      "Epoch 9/20\n",
      "\u001b[1m180/180\u001b[0m \u001b[32m━━━━━━━━━━━━━━━━━━━━\u001b[0m\u001b[37m\u001b[0m \u001b[1m0s\u001b[0m 2ms/step - accuracy: 7.1768e-04 - loss: 7.3585 - val_accuracy: 4.3459e-04 - val_loss: 7.3368\n",
      "Epoch 10/20\n",
      "\u001b[1m180/180\u001b[0m \u001b[32m━━━━━━━━━━━━━━━━━━━━\u001b[0m\u001b[37m\u001b[0m \u001b[1m1s\u001b[0m 3ms/step - accuracy: 8.7221e-04 - loss: 7.3379 - val_accuracy: 4.3459e-04 - val_loss: 7.0764\n",
      "Epoch 11/20\n",
      "\u001b[1m180/180\u001b[0m \u001b[32m━━━━━━━━━━━━━━━━━━━━\u001b[0m\u001b[37m\u001b[0m \u001b[1m0s\u001b[0m 2ms/step - accuracy: 8.3117e-04 - loss: 7.2711 - val_accuracy: 4.3459e-04 - val_loss: 7.0557\n",
      "Epoch 12/20\n",
      "\u001b[1m180/180\u001b[0m \u001b[32m━━━━━━━━━━━━━━━━━━━━\u001b[0m\u001b[37m\u001b[0m \u001b[1m1s\u001b[0m 2ms/step - accuracy: 8.9061e-04 - loss: 6.9877 - val_accuracy: 4.3459e-04 - val_loss: 7.0663\n",
      "Epoch 13/20\n",
      "\u001b[1m180/180\u001b[0m \u001b[32m━━━━━━━━━━━━━━━━━━━━\u001b[0m\u001b[37m\u001b[0m \u001b[1m0s\u001b[0m 2ms/step - accuracy: 0.0018 - loss: 7.2211 - val_accuracy: 4.3459e-04 - val_loss: 6.8212\n",
      "Epoch 14/20\n",
      "\u001b[1m180/180\u001b[0m \u001b[32m━━━━━━━━━━━━━━━━━━━━\u001b[0m\u001b[37m\u001b[0m \u001b[1m0s\u001b[0m 2ms/step - accuracy: 0.0011 - loss: 6.8757 - val_accuracy: 4.3459e-04 - val_loss: 6.7379\n",
      "Epoch 15/20\n",
      "\u001b[1m180/180\u001b[0m \u001b[32m━━━━━━━━━━━━━━━━━━━━\u001b[0m\u001b[37m\u001b[0m \u001b[1m0s\u001b[0m 2ms/step - accuracy: 0.0011 - loss: 6.7314 - val_accuracy: 4.3459e-04 - val_loss: 6.7802\n",
      "Epoch 16/20\n",
      "\u001b[1m180/180\u001b[0m \u001b[32m━━━━━━━━━━━━━━━━━━━━\u001b[0m\u001b[37m\u001b[0m \u001b[1m0s\u001b[0m 2ms/step - accuracy: 0.0011 - loss: 6.8442 - val_accuracy: 4.3459e-04 - val_loss: 6.5862\n",
      "Epoch 17/20\n",
      "\u001b[1m180/180\u001b[0m \u001b[32m━━━━━━━━━━━━━━━━━━━━\u001b[0m\u001b[37m\u001b[0m \u001b[1m1s\u001b[0m 3ms/step - accuracy: 7.8324e-04 - loss: 6.7846 - val_accuracy: 4.3459e-04 - val_loss: 6.6491\n",
      "Epoch 18/20\n",
      "\u001b[1m180/180\u001b[0m \u001b[32m━━━━━━━━━━━━━━━━━━━━\u001b[0m\u001b[37m\u001b[0m \u001b[1m1s\u001b[0m 4ms/step - accuracy: 0.0011 - loss: 6.6700 - val_accuracy: 4.3459e-04 - val_loss: 6.5599\n",
      "Epoch 19/20\n",
      "\u001b[1m180/180\u001b[0m \u001b[32m━━━━━━━━━━━━━━━━━━━━\u001b[0m\u001b[37m\u001b[0m \u001b[1m1s\u001b[0m 3ms/step - accuracy: 7.6439e-04 - loss: 6.5502 - val_accuracy: 4.3459e-04 - val_loss: 6.3637\n",
      "Epoch 20/20\n",
      "\u001b[1m180/180\u001b[0m \u001b[32m━━━━━━━━━━━━━━━━━━━━\u001b[0m\u001b[37m\u001b[0m \u001b[1m0s\u001b[0m 2ms/step - accuracy: 8.3640e-04 - loss: 6.4241 - val_accuracy: 4.3459e-04 - val_loss: 6.3738\n",
      "\u001b[1m72/72\u001b[0m \u001b[32m━━━━━━━━━━━━━━━━━━━━\u001b[0m\u001b[37m\u001b[0m \u001b[1m0s\u001b[0m 2ms/step\n",
      "Epoch 1/20\n",
      "\u001b[1m180/180\u001b[0m \u001b[32m━━━━━━━━━━━━━━━━━━━━\u001b[0m\u001b[37m\u001b[0m \u001b[1m2s\u001b[0m 3ms/step - accuracy: 7.5124e-04 - loss: 229.2271 - val_accuracy: 0.0013 - val_loss: 26.6480\n",
      "Epoch 2/20\n",
      "\u001b[1m180/180\u001b[0m \u001b[32m━━━━━━━━━━━━━━━━━━━━\u001b[0m\u001b[37m\u001b[0m \u001b[1m1s\u001b[0m 3ms/step - accuracy: 6.6438e-04 - loss: 21.8350 - val_accuracy: 0.0013 - val_loss: 13.4768\n",
      "Epoch 3/20\n",
      "\u001b[1m180/180\u001b[0m \u001b[32m━━━━━━━━━━━━━━━━━━━━\u001b[0m\u001b[37m\u001b[0m \u001b[1m1s\u001b[0m 4ms/step - accuracy: 0.0011 - loss: 11.9741 - val_accuracy: 0.0013 - val_loss: 8.9233\n",
      "Epoch 4/20\n",
      "\u001b[1m180/180\u001b[0m \u001b[32m━━━━━━━━━━━━━━━━━━━━\u001b[0m\u001b[37m\u001b[0m \u001b[1m0s\u001b[0m 2ms/step - accuracy: 0.0011 - loss: 8.0081 - val_accuracy: 0.0013 - val_loss: 7.9557\n",
      "Epoch 5/20\n",
      "\u001b[1m180/180\u001b[0m \u001b[32m━━━━━━━━━━━━━━━━━━━━\u001b[0m\u001b[37m\u001b[0m \u001b[1m0s\u001b[0m 2ms/step - accuracy: 6.2847e-04 - loss: 7.7317 - val_accuracy: 0.0013 - val_loss: 7.8661\n",
      "Epoch 6/20\n",
      "\u001b[1m180/180\u001b[0m \u001b[32m━━━━━━━━━━━━━━━━━━━━\u001b[0m\u001b[37m\u001b[0m \u001b[1m0s\u001b[0m 2ms/step - accuracy: 6.3997e-04 - loss: 7.6765 - val_accuracy: 0.0013 - val_loss: 7.6126\n",
      "Epoch 7/20\n",
      "\u001b[1m180/180\u001b[0m \u001b[32m━━━━━━━━━━━━━━━━━━━━\u001b[0m\u001b[37m\u001b[0m \u001b[1m0s\u001b[0m 2ms/step - accuracy: 7.7493e-04 - loss: 7.3065 - val_accuracy: 0.0013 - val_loss: 7.4712\n",
      "Epoch 8/20\n",
      "\u001b[1m180/180\u001b[0m \u001b[32m━━━━━━━━━━━━━━━━━━━━\u001b[0m\u001b[37m\u001b[0m \u001b[1m0s\u001b[0m 2ms/step - accuracy: 6.0531e-04 - loss: 7.2992 - val_accuracy: 0.0013 - val_loss: 7.3588\n",
      "Epoch 9/20\n",
      "\u001b[1m180/180\u001b[0m \u001b[32m━━━━━━━━━━━━━━━━━━━━\u001b[0m\u001b[37m\u001b[0m \u001b[1m0s\u001b[0m 2ms/step - accuracy: 8.0565e-04 - loss: 7.3329 - val_accuracy: 0.0013 - val_loss: 7.3663\n",
      "Epoch 10/20\n",
      "\u001b[1m180/180\u001b[0m \u001b[32m━━━━━━━━━━━━━━━━━━━━\u001b[0m\u001b[37m\u001b[0m \u001b[1m1s\u001b[0m 2ms/step - accuracy: 0.0011 - loss: 7.2419 - val_accuracy: 0.0013 - val_loss: 7.1635\n",
      "Epoch 11/20\n",
      "\u001b[1m180/180\u001b[0m \u001b[32m━━━━━━━━━━━━━━━━━━━━\u001b[0m\u001b[37m\u001b[0m \u001b[1m0s\u001b[0m 2ms/step - accuracy: 4.0566e-04 - loss: 7.2491 - val_accuracy: 0.0013 - val_loss: 7.0797\n",
      "Epoch 12/20\n",
      "\u001b[1m180/180\u001b[0m \u001b[32m━━━━━━━━━━━━━━━━━━━━\u001b[0m\u001b[37m\u001b[0m \u001b[1m0s\u001b[0m 2ms/step - accuracy: 7.0261e-04 - loss: 7.0264 - val_accuracy: 0.0013 - val_loss: 7.0624\n",
      "Epoch 13/20\n",
      "\u001b[1m180/180\u001b[0m \u001b[32m━━━━━━━━━━━━━━━━━━━━\u001b[0m\u001b[37m\u001b[0m \u001b[1m1s\u001b[0m 3ms/step - accuracy: 0.0011 - loss: 7.1671 - val_accuracy: 0.0013 - val_loss: 6.9111\n",
      "Epoch 14/20\n",
      "\u001b[1m180/180\u001b[0m \u001b[32m━━━━━━━━━━━━━━━━━━━━\u001b[0m\u001b[37m\u001b[0m \u001b[1m0s\u001b[0m 2ms/step - accuracy: 6.8767e-04 - loss: 6.6789 - val_accuracy: 0.0013 - val_loss: 6.7544\n",
      "Epoch 15/20\n",
      "\u001b[1m180/180\u001b[0m \u001b[32m━━━━━━━━━━━━━━━━━━━━\u001b[0m\u001b[37m\u001b[0m \u001b[1m0s\u001b[0m 2ms/step - accuracy: 7.7747e-04 - loss: 6.7478 - val_accuracy: 0.0013 - val_loss: 6.6592\n",
      "Epoch 16/20\n",
      "\u001b[1m180/180\u001b[0m \u001b[32m━━━━━━━━━━━━━━━━━━━━\u001b[0m\u001b[37m\u001b[0m \u001b[1m0s\u001b[0m 2ms/step - accuracy: 0.0011 - loss: 6.9148 - val_accuracy: 0.0013 - val_loss: 6.5973\n",
      "Epoch 17/20\n",
      "\u001b[1m180/180\u001b[0m \u001b[32m━━━━━━━━━━━━━━━━━━━━\u001b[0m\u001b[37m\u001b[0m \u001b[1m0s\u001b[0m 2ms/step - accuracy: 8.9670e-04 - loss: 6.6396 - val_accuracy: 0.0013 - val_loss: 6.4783\n",
      "Epoch 18/20\n",
      "\u001b[1m180/180\u001b[0m \u001b[32m━━━━━━━━━━━━━━━━━━━━\u001b[0m\u001b[37m\u001b[0m \u001b[1m0s\u001b[0m 2ms/step - accuracy: 5.0273e-04 - loss: 6.5122 - val_accuracy: 0.0013 - val_loss: 6.3715\n",
      "Epoch 19/20\n",
      "\u001b[1m180/180\u001b[0m \u001b[32m━━━━━━━━━━━━━━━━━━━━\u001b[0m\u001b[37m\u001b[0m \u001b[1m0s\u001b[0m 2ms/step - accuracy: 7.6676e-04 - loss: 6.4686 - val_accuracy: 0.0013 - val_loss: 6.4533\n",
      "Epoch 20/20\n",
      "\u001b[1m180/180\u001b[0m \u001b[32m━━━━━━━━━━━━━━━━━━━━\u001b[0m\u001b[37m\u001b[0m \u001b[1m0s\u001b[0m 2ms/step - accuracy: 6.5922e-04 - loss: 6.4403 - val_accuracy: 0.0013 - val_loss: 6.1801\n",
      "\u001b[1m72/72\u001b[0m \u001b[32m━━━━━━━━━━━━━━━━━━━━\u001b[0m\u001b[37m\u001b[0m \u001b[1m0s\u001b[0m 2ms/step\n"
     ]
    },
    {
     "data": {
      "text/plain": [
       "[6.397143984992108,\n",
       " 6.5783066080602115,\n",
       " 6.7221922268464125,\n",
       " 6.4200810615036925,\n",
       " 6.3737831938365055,\n",
       " 6.180065590768854]"
      ]
     },
     "execution_count": 184,
     "metadata": {},
     "output_type": "execute_result"
    }
   ],
   "source": [
    "mse_list = []\n",
    "for train, validation in kf.split(x, y):\n",
    "\n",
    "    # x_train = x_train_main[train]\n",
    "    # y_train = y_train_main[train]\n",
    "\n",
    "    # x_test = x_train_main[validation]\n",
    "    # y_test = x_train_main[validation]\n",
    "\n",
    "    # x_train, x_test = x[train], x[validation]\n",
    "    # y_train, y_test = y[train], y[validation]\n",
    "\n",
    "    x_train = x[train]\n",
    "    x_test = x[validation]\n",
    "    y_train = y[train]\n",
    "    y_test = y[validation]\n",
    "    \n",
    "    model = model_creator()\n",
    "    model.fit(x_train, y_train, epochs=20, batch_size=64, validation_data=(x_test, y_test))\n",
    "\n",
    "    y_pred = model.predict(x_test)\n",
    "\n",
    "    mse_list.append(mean_squared_error(y_test, y_pred))\n",
    "\n",
    "mse_list\n",
    "\n",
    "\n",
    "\n",
    "\n",
    "\n",
    "# 6.304961665296364 => mean_squared_error with scaler and without pca\n",
    "\n",
    "\n"
   ]
  },
  {
   "cell_type": "code",
   "execution_count": 185,
   "metadata": {},
   "outputs": [
    {
     "data": {
      "text/plain": [
       "6.4452621110012975"
      ]
     },
     "execution_count": 185,
     "metadata": {},
     "output_type": "execute_result"
    }
   ],
   "source": [
    "np.mean(mse_list)\n"
   ]
  },
  {
   "cell_type": "code",
   "execution_count": 186,
   "metadata": {},
   "outputs": [
    {
     "name": "stdout",
     "output_type": "stream",
     "text": [
      "\u001b[1m48/48\u001b[0m \u001b[32m━━━━━━━━━━━━━━━━━━━━\u001b[0m\u001b[37m\u001b[0m \u001b[1m0s\u001b[0m 3ms/step\n"
     ]
    },
    {
     "data": {
      "text/plain": [
       "6.934512681786532"
      ]
     },
     "execution_count": 186,
     "metadata": {},
     "output_type": "execute_result"
    }
   ],
   "source": [
    "y_pred_main = model.predict(x_test_main)\n",
    "mse_main = mean_squared_error(y_test_main, y_pred_main)\n",
    "mse_main"
   ]
  },
  {
   "cell_type": "markdown",
   "metadata": {},
   "source": [
    "# define 4"
   ]
  },
  {
   "cell_type": "code",
   "execution_count": 187,
   "metadata": {},
   "outputs": [],
   "source": [
    "# model = keras.Sequential()\n",
    "# model.add(keras.layers.Input(shape=(9,)))\n",
    "# model.add(keras.layers.Dense(units=32, activation='relu'))\n",
    "# model.add(keras.layers.Dense(units=32, activation='sigmoid'))\n",
    "# model.add(keras.layers.Dense(units=1))\n",
    "# model.compile(optimizer=tf.optimizers.Adam(), loss='mean_squared_error', metrics=['accuracy'])\n",
    "# # model.compile(optimizer=tf.optimizers.Adam(), loss=tf.losses.mean_squared_error, metrics=['accuracy'])\n",
    "# model.fit(x, y, epochs=20, batch_size=64, validation_data=(x_test, y_test))\n",
    "# y_pred = model.predict(x_test_main)\n",
    "# mse = mean_squared_error(y_true=y_test, y_pred=y_pred)\n",
    "# mse\n",
    "# # 12.187250703339979 => mean_squared_error with scaler and pca\n",
    "# # 10.015396159320842 => mean_squared_error with scaler and without pca\n",
    "# # 42.39169921336769 => mean_squared_error without scaler and without pca"
   ]
  },
  {
   "cell_type": "markdown",
   "metadata": {},
   "source": [
    "# in simple model just do MinMaxScaler got the best result"
   ]
  },
  {
   "cell_type": "code",
   "execution_count": null,
   "metadata": {},
   "outputs": [],
   "source": []
  }
 ],
 "metadata": {
  "kernelspec": {
   "display_name": "Python 3",
   "language": "python",
   "name": "python3"
  },
  "language_info": {
   "codemirror_mode": {
    "name": "ipython",
    "version": 3
   },
   "file_extension": ".py",
   "mimetype": "text/x-python",
   "name": "python",
   "nbconvert_exporter": "python",
   "pygments_lexer": "ipython3",
   "version": "3.11.3"
  }
 },
 "nbformat": 4,
 "nbformat_minor": 2
}
