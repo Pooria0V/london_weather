{
 "cells": [
  {
   "cell_type": "code",
   "execution_count": 138,
   "metadata": {},
   "outputs": [],
   "source": [
    "import pandas as pd\n",
    "import numpy as np\n",
    "import matplotlib.pyplot as plt\n",
    "import tensorflow as tf\n",
    "from tensorflow import keras\n",
    "from sklearn.metrics import mean_squared_error"
   ]
  },
  {
   "cell_type": "markdown",
   "metadata": {},
   "source": [
    "# import dataset"
   ]
  },
  {
   "cell_type": "code",
   "execution_count": null,
   "metadata": {},
   "outputs": [],
   "source": [
    "df = pd.read_csv('london_weather.csv')\n"
   ]
  },
  {
   "cell_type": "markdown",
   "metadata": {},
   "source": [
    "# fill missing data"
   ]
  },
  {
   "cell_type": "code",
   "execution_count": 139,
   "metadata": {},
   "outputs": [],
   "source": [
    "df = df.fillna(1)\n"
   ]
  },
  {
   "cell_type": "markdown",
   "metadata": {},
   "source": [
    "# split dataset"
   ]
  },
  {
   "cell_type": "code",
   "execution_count": 149,
   "metadata": {},
   "outputs": [],
   "source": [
    "x = df.drop(columns=['max_temp','snow_depth'], axis=1)  \n",
    "y = df['max_temp']  \n",
    "\n",
    "x = np.array(x)\n",
    "y = np.array(y)"
   ]
  },
  {
   "cell_type": "code",
   "execution_count": 142,
   "metadata": {},
   "outputs": [
    {
     "data": {
      "text/plain": [
       "(1535,)"
      ]
     },
     "execution_count": 142,
     "metadata": {},
     "output_type": "execute_result"
    }
   ],
   "source": [
    "from sklearn.model_selection import train_test_split\n",
    "\n",
    "x, x_test_main, y, y_test_main = train_test_split(x, y, test_size=0.1, random_state=42)\n",
    "# y_train = y_train.astype(int)\n",
    "# y_test = y_test.astype(int)\n",
    "y_test_main.shape"
   ]
  },
  {
   "cell_type": "markdown",
   "metadata": {},
   "source": [
    "# normalizing"
   ]
  },
  {
   "cell_type": "code",
   "execution_count": 143,
   "metadata": {},
   "outputs": [
    {
     "data": {
      "text/plain": [
       "array([0.36609191, 0.33333333, 0.86875   , 0.82663317, 0.67213115,\n",
       "       0.6568915 , 0.        , 0.98282754])"
      ]
     },
     "execution_count": 143,
     "metadata": {},
     "output_type": "execute_result"
    }
   ],
   "source": [
    "from sklearn.preprocessing import MinMaxScaler\n",
    "\n",
    "scaler = MinMaxScaler(feature_range=(0, 1))\n",
    "x = scaler.fit_transform(x)\n",
    "x_test_main = scaler.fit_transform(x_test_main)\n",
    "x[0]"
   ]
  },
  {
   "cell_type": "markdown",
   "metadata": {},
   "source": [
    "# pca"
   ]
  },
  {
   "cell_type": "code",
   "execution_count": 144,
   "metadata": {},
   "outputs": [],
   "source": [
    "# from sklearn.decomposition import PCA\n",
    "\n",
    "# pca = PCA(n_components=8)\n",
    "\n",
    "# x = pca.fit_transform(X=x)\n",
    "# x_test_main = pca.transform(X=x_test_main)"
   ]
  },
  {
   "cell_type": "markdown",
   "metadata": {},
   "source": [
    "\n",
    "# define model 1"
   ]
  },
  {
   "cell_type": "code",
   "execution_count": 145,
   "metadata": {},
   "outputs": [],
   "source": [
    "\n",
    "\n",
    "# model = keras.Sequential()\n",
    "# model.add(keras.layers.Input(shape=(8,)))\n",
    "# model.add(keras.layers.Dense(units=32, activation='relu'))\n",
    "# model.add(keras.layers.Dense(units=32, activation='sigmoid'))\n",
    "# model.add(keras.layers.Dense(units=1))\n",
    "# model.compile(optimizer=tf.optimizers.Adam(), loss='mean_squared_error', metrics=['accuracy'])\n",
    "# # model.compile(optimizer=tf.optimizers.Adam(), loss=tf.losses.mean_squared_error, metrics=['accuracy'])\n",
    "# model.fit(x, y, epochs=20, batch_size=64, validation_data=(x_test_main, y_test_main))\n",
    "# y_pred = model.predict(x_test_main)\n",
    "# mse = mean_squared_error(y_true=y_test_main, y_pred=y_pred)\n",
    "# mse\n",
    "# # 12.187250703339979 => mean_squared_error with scaler and pca\n",
    "# # 10.015396159320842 => mean_squared_error with scaler and without pca\n",
    "# # 42.39169921336769 => mean_squared_error without scaler and without pca\n",
    "# # 10.933645420023264 => mean_squared_error without column snow_depth and without pca and with scaler"
   ]
  },
  {
   "cell_type": "markdown",
   "metadata": {},
   "source": [
    "# in simple model just do MinMaxScaler got the best result"
   ]
  },
  {
   "cell_type": "markdown",
   "metadata": {},
   "source": [
    "# define 2"
   ]
  },
  {
   "cell_type": "code",
   "execution_count": 146,
   "metadata": {},
   "outputs": [],
   "source": [
    "from sklearn.model_selection import KFold\n",
    "\n",
    "kf = KFold(n_splits=6)\n",
    "# def model_creator():\n",
    "#     model = keras.Sequential()\n",
    "#     model.add(keras.layers.Input(shape=(8,)))\n",
    "#     model.add(keras.layers.Dense(units=32, activation='relu'))\n",
    "#     model.add(keras.layers.Dense(units=32, activation='relu'))\n",
    "#     model.add(keras.layers.Dense(units=1, activation='linear'))\n",
    "#     model.compile(optimizer=tf.optimizers.Adam(), loss='mean_squared_error', metrics=['accuracy'])\n",
    "#     return model\n",
    "\n",
    "\n",
    "\n",
    "# mse_list = []\n",
    "# for train, validation in kf.split(x, y):\n",
    "\n",
    "#     # x_train = x_train_main[train]\n",
    "#     # y_train = y_train_main[train]\n",
    "\n",
    "#     # x_test = x_train_main[validation]\n",
    "#     # y_test = x_train_main[validation]\n",
    "\n",
    "#     # x_train, x_test = x[train], x[validation]\n",
    "#     # y_train, y_test = y[train], y[validation]\n",
    "\n",
    "#     x_train = x[train]\n",
    "#     x_test = x[validation]\n",
    "#     y_train = y[train]\n",
    "#     y_test = y[validation]\n",
    "    \n",
    "#     model = model_creator()\n",
    "#     model.fit(x_train, y_train, epochs=20, batch_size=64, validation_data=(x_test, y_test))\n",
    "\n",
    "#     y_pred = model.predict(x_test)\n",
    "\n",
    "#     mse_list.append(mean_squared_error(y_test, y_pred))\n",
    "\n",
    "# # mse_list\n",
    "\n",
    "# y_pred_main = model.predict(x_test_main)\n",
    "# mse_main = mean_squared_error(y_test_main, y_pred_main)\n",
    "# mse_main, np.mean(mse_list)\n",
    "\n",
    "\n",
    "\n",
    "\n",
    "# # 6.304961665296364 => mean_squared_error with scaler and without pca\n",
    "\n",
    "\n"
   ]
  },
  {
   "cell_type": "markdown",
   "metadata": {},
   "source": [
    "# define 3"
   ]
  },
  {
   "cell_type": "code",
   "execution_count": 147,
   "metadata": {},
   "outputs": [],
   "source": [
    "# from sklearn.model_selection import RandomizedSearchCV\n",
    "# from keras.wrappers.scikit_learn import KerasClassifier\n",
    "\n",
    "# # Define a function to create your Keras model\n",
    "# def create_model(activation='relu', hidden_layer_size=32, dropout_rate=0.2):\n",
    "#     # ... (Your model architecture)\n",
    "\n",
    "#     return model\n",
    "\n",
    "# # Create a KerasClassifier instance\n",
    "# model = KerasClassifier(build_fn=create_model, verbose=0)\n",
    "\n",
    "# # Define the hyperparameter search space\n",
    "# param_dist = {\n",
    "#     'activation': ['relu', 'tanh', 'sigmoid'],\n",
    "#     'hidden_layer_size': [16, 32, 64, 128],\n",
    "#     'dropout_rate': [0.2, 0.3, 0.4, 0.5]\n",
    "# }\n",
    "\n",
    "# # Create a RandomizedSearchCV object\n",
    "# random_search = RandomizedSearchCV(estimator=model, param_distributions=param_dist, n_iter=10, cv=3)\n",
    "\n",
    "# # Fit the random search to your data\n",
    "# random_search.fit(X_train, y_train)\n",
    "\n",
    "# # Get the best parameters and model\n",
    "# best_params = random_search.best_params_\n",
    "# best_model = random_search.best_estimator_"
   ]
  },
  {
   "cell_type": "markdown",
   "metadata": {},
   "source": [
    "# define model 4"
   ]
  },
  {
   "cell_type": "code",
   "execution_count": 148,
   "metadata": {},
   "outputs": [],
   "source": [
    "# def get_reg(meta, hidden_layer_sizes, dropout, active='relu'):\n",
    "#     n_features_in_ = meta[\"n_features_in_\"]\n",
    "#     model = keras.models.Sequential()\n",
    "#     model.add(keras.layers.Input(shape=(n_features_in_,)))\n",
    "#     for hidden_layer_size in hidden_layer_sizes:\n",
    "#         model.add(keras.layers.Dense(hidden_layer_size, activation=active))\n",
    "#         model.add(keras.layers.Dropout(dropout))\n",
    "#     model.add(keras.layers.Dense(1))\n",
    "#     return model\n",
    "# from scikeras.wrappers import KerasRegressor\n",
    "\n",
    "\n",
    "# reg = KerasRegressor(\n",
    "#     model=get_reg,\n",
    "#     loss=\"mse\",\n",
    "#     metrics=[keras.metrics.R2Score],\n",
    "#     hidden_layer_sizes=(100,),\n",
    "#     dropout=0.5,\n",
    "# )\n",
    "# reg.fit(x_train, y_train)\n",
    "# from sklearn.model_selection import RandomizedSearchCV\n",
    "\n",
    "# param_grid = {\n",
    "#     'alpha': [0.1, 1.0, 10.0, 100.0, 1000.0],\n",
    "#     'solver': ['auto', 'svd', 'cholesky', 'lsqr', 'sparse_cg', 'sag', 'saga']\n",
    "# }\n",
    "# rs = RandomizedSearchCV(estimator=reg, param_distributions=param_grid, cv=3, n_iter=20)\n",
    "\n",
    "# rs.fit(x_train, y_train)\n"
   ]
  }
 ],
 "metadata": {
  "kernelspec": {
   "display_name": "Python 3",
   "language": "python",
   "name": "python3"
  },
  "language_info": {
   "codemirror_mode": {
    "name": "ipython",
    "version": 3
   },
   "file_extension": ".py",
   "mimetype": "text/x-python",
   "name": "python",
   "nbconvert_exporter": "python",
   "pygments_lexer": "ipython3",
   "version": "3.11.3"
  }
 },
 "nbformat": 4,
 "nbformat_minor": 2
}
